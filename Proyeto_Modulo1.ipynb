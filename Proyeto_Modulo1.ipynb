{
 "cells": [
  {
   "cell_type": "code",
   "execution_count": null,
   "metadata": {
    "collapsed": true
   },
   "outputs": [],
   "source": []
  },
  {
   "cell_type": "markdown",
   "metadata": {},
   "source": [
    "\\begin{equation}\n",
    "\\begin{array}{ll}\n",
    "\\min_{x,y} & 25x+20y \\\\\n",
    "\\text{s. a. }  & 2x+y\\geq 12 \\\\\n",
    "               & 2x+9y\\geq 36 \\\\\n",
    "               & 2x+3y\\leq 24,\n",
    "\\end{array}\n",
    "\\end{equation}"
   ]
  },
  {
   "cell_type": "code",
   "execution_count": 1,
   "metadata": {
    "collapsed": true
   },
   "outputs": [],
   "source": [
    "import numpy as np\n",
    "import matplotlib.pyplot as plt\n",
    "%matplotlib inline\n",
    "import scipy.optimize as opt"
   ]
  },
  {
   "cell_type": "code",
   "execution_count": 2,
   "metadata": {
    "collapsed": true
   },
   "outputs": [],
   "source": [
    "c = np.array([25, 20])                   ##Coeficientes de la funcion objetivo\n",
    "A = np.array([[-2, -1], [-2, -9], [-2, -3]])\n",
    "b = np.array([-12, -36, -24])\n",
    "x_bound = (0, None)\n",
    "y_bound = (0, None)"
   ]
  },
  {
   "cell_type": "code",
   "execution_count": 3,
   "metadata": {
    "collapsed": false
   },
   "outputs": [
    {
     "name": "stdout",
     "output_type": "stream",
     "text": [
      "Optimization terminated successfully.\n",
      "         Current function value: 195.000000  \n",
      "         Iterations: 4\n"
     ]
    }
   ],
   "source": [
    "res = opt.linprog(c, A_ub = A, b_ub = b, bounds=(x_bound, y_bound), options={'disp':True})"
   ]
  },
  {
   "cell_type": "code",
   "execution_count": 4,
   "metadata": {
    "collapsed": false
   },
   "outputs": [
    {
     "data": {
      "text/plain": [
       "     fun: 195.00000000000003\n",
       " message: 'Optimization terminated successfully.'\n",
       "     nit: 4\n",
       "   slack: array([  0.,  24.,   0.])\n",
       "  status: 0\n",
       " success: True\n",
       "       x: array([ 3.,  6.])"
      ]
     },
     "execution_count": 4,
     "metadata": {},
     "output_type": "execute_result"
    }
   ],
   "source": [
    "res"
   ]
  },
  {
   "cell_type": "code",
   "execution_count": 5,
   "metadata": {
    "collapsed": false
   },
   "outputs": [
    {
     "data": {
      "text/plain": [
       "array([ 3.,  6.])"
      ]
     },
     "execution_count": 5,
     "metadata": {},
     "output_type": "execute_result"
    }
   ],
   "source": [
    "res.x"
   ]
  },
  {
   "cell_type": "code",
   "execution_count": 6,
   "metadata": {
    "collapsed": true
   },
   "outputs": [],
   "source": [
    "def y_v1(x):\n",
    "    return 12 - 2*x\n",
    "def y_v2(x):\n",
    "    return (36 - 2*x)/9\n",
    "def y_v3(x):\n",
    "    return (24 - 2*x)/3"
   ]
  },
  {
   "cell_type": "code",
   "execution_count": 7,
   "metadata": {
    "collapsed": true
   },
   "outputs": [],
   "source": [
    "x = np.linspace(0,50)"
   ]
  },
  {
   "cell_type": "code",
   "execution_count": 8,
   "metadata": {
    "collapsed": true
   },
   "outputs": [],
   "source": [
    "#plt.fill_between?"
   ]
  },
  {
   "cell_type": "code",
   "execution_count": 24,
   "metadata": {
    "collapsed": false
   },
   "outputs": [
    {
     "name": "stderr",
     "output_type": "stream",
     "text": [
      "C:\\ProgramData\\Anaconda3\\lib\\site-packages\\matplotlib\\axes\\_axes.py:545: UserWarning: No labelled objects found. Use label='...' kwarg on individual plots.\n",
      "  warnings.warn(\"No labelled objects found. \"\n"
     ]
    },
    {
     "data": {
      "image/png": "[encoded data removed]",
      "text/plain": [
       "<matplotlib.figure.Figure at 0x2260d4869b0>"
      ]
     },
     "metadata": {},
     "output_type": "display_data"
    }
   ],
   "source": [
    "plt.figure(figsize = (9,6))\n",
    "plt.plot(x, y_v1(x), 'magenta') #desigualdad 1\n",
    "plt.plot(x, y_v2(x), 'blue') # desigualdad 2\n",
    "plt.plot(x, y_v3(x)) # desigualdad 3\n",
    "plt.xlim(xmin = 0, xmax = 18)\n",
    "plt.ylim(ymin = 0, ymax = 12)\n",
    "plt.fill_between(np.array([0, 18]), y_v1(np.array([0, 18])), 12, alpha = .3, color = 'red')\n",
    "plt.fill_between(np.array([0, 18]), y_v2(np.array([0, 18])), 12, alpha = .3, color = 'orange')\n",
    "plt.fill_between(np.array([0, 18]), y_v3(np.array([0, 18])), 12, alpha = .3, color = 'yellow')\n",
    "plt.fill_between(np.array([0, 6]), y_v1(np.array([0, 6])), 0, alpha = .2, color = 'blue')\n",
    "plt.fill_between(np.array([0, 18]), y_v2(np.array([0, 18])), 0, alpha = .2, color = 'green')\n",
    "plt.fill_between(np.array([0, 12]), y_v3(np.array([0, 12])), 0, alpha = .2, color = 'purple')\n",
    "plt.legend()\n",
    "plt.xlabel(\"$x$\", fontsize = 18)\n",
    "plt.ylabel(\"$y$\", fontsize = 18)\n",
    "plt.grid()\n",
    "plt.show()"
   ]
  },
  {
   "cell_type": "code",
   "execution_count": null,
   "metadata": {
    "collapsed": true
   },
   "outputs": [],
   "source": []
  },
  {
   "cell_type": "code",
   "execution_count": null,
   "metadata": {
    "collapsed": true
   },
   "outputs": [],
   "source": []
  },
  {
   "cell_type": "code",
   "execution_count": null,
   "metadata": {
    "collapsed": true
   },
   "outputs": [],
   "source": []
  }
 ],
 "metadata": {
  "kernelspec": {
   "display_name": "Python 3",
   "language": "python",
   "name": "python3"
  },
  "language_info": {
   "codemirror_mode": {
    "name": "ipython",
    "version": 3
   },
   "file_extension": ".py",
   "mimetype": "text/x-python",
   "name": "python",
   "nbconvert_exporter": "python",
   "pygments_lexer": "ipython3",
   "version": "3.6.0"
  }
 },
 "nbformat": 4,
 "nbformat_minor": 2
}
