{
 "cells": [
  {
   "cell_type": "markdown",
   "metadata": {
    "collapsed": true
   },
   "source": [
    "# Proyecto Módulo 1 \n",
    "# Optimización Agrícola\n",
    "## Simulación Matemática\n",
    "<img style=\"float: right; margin: 0px 0px 15px 15px;\" src=\"http://alef.mx/wp-content/uploads/2015/09/Ganado-vacas-establo-alimento-c.jpg\" width=\"450px\" height=\"150px\" />\n",
    "Integrantes:\n",
    "<li>- Ernesto Díaz </li>\n",
    "<li>- Rafael González </li>\n",
    "\n",
    "Profesor:\n",
    " Lázaro Alonso"
   ]
  },
  {
   "cell_type": "markdown",
   "metadata": {
    "collapsed": true
   },
   "source": [
    "### Objetivos Generales"
   ]
  },
  {
   "cell_type": "markdown",
   "metadata": {
    "collapsed": true
   },
   "source": [
    "> - Utilizando los temas de programación lineal  y optimización de funciones con Python llevar acabo un proyecto aplicado en la vida real que demuestre una solucion viable y optima.\n",
    "> - Poner en práctica el manejo de herramientas como Github y Gitkraken para la colaboración en proyectos en Python."
   ]
  },
  {
   "cell_type": "markdown",
   "metadata": {},
   "source": [
    "### Objetivos Especificos"
   ]
  },
  {
   "cell_type": "markdown",
   "metadata": {},
   "source": [
    "> - Determinar la cantidad de sacos de alimento de cada marca que recomandamos comprar a nuestro consumidor, de forma que se pueda obtenerse el menor costo posible cumpliendo con las siguientes restricciones.\n",
    "> - Poder mostrar de forma gráfica al cliente cual es la cantidad de alimento de cada marca que mejor se ajusta para minimizar sus gastos.\n",
    "\n",
    "La marca x cuesta $25 por saco(contiene 2 unidades de nutriente A, 2 unidades de B y 2 unidades de C).\n",
    "\n",
    "La marca y cuesta $20 por saco(contiene 1 unidad de nutriente A, 9 unidades de B y 3 unidades de C).\n",
    "\n",
    "Los requerimentos minimos por nutriente son de 12 unidades de A, 36 de B y 24 de C."
   ]
  },
  {
   "cell_type": "markdown",
   "metadata": {},
   "source": [
    "Función a minimizar y restricciones del problema"
   ]
  },
  {
   "cell_type": "markdown",
   "metadata": {},
   "source": [
    "\\begin{equation}\n",
    "\\begin{array}{ll}\n",
    "\\min_{x,y} & 25x+20y \\\\\n",
    "\\text{s. a. }  & 2x+y\\geq 12 \\\\\n",
    "               & 2x+9y\\geq 36 \\\\\n",
    "               & 2x+3y\\geq 24,\n",
    "\\end{array}\n",
    "\\end{equation}"
   ]
  },
  {
   "cell_type": "code",
   "execution_count": 1,
   "metadata": {
    "collapsed": true
   },
   "outputs": [],
   "source": [
    "import numpy as np\n",
    "import sympy as sym\n",
    "sym.init_printing(use_latex='mathjax')\n",
    "import matplotlib.pyplot as plt\n",
    "%matplotlib inline\n",
    "import scipy.optimize as opt"
   ]
  },
  {
   "cell_type": "code",
   "execution_count": 2,
   "metadata": {
    "collapsed": true
   },
   "outputs": [],
   "source": [
    "c = np.array([25, 20])                   \n",
    "A = np.array([[-2, -1], [-2, -9], [-2, -3]])\n",
    "b = np.array([-12, -36, -24])\n",
    "x_bound = (0, None)\n",
    "y_bound = (0, None)"
   ]
  },
  {
   "cell_type": "code",
   "execution_count": 3,
   "metadata": {},
   "outputs": [
    {
     "data": {
      "text/plain": [
       "array([25, 20])"
      ]
     },
     "execution_count": 3,
     "metadata": {},
     "output_type": "execute_result"
    }
   ],
   "source": [
    "c    ##Coeficientes de la funcion objetivo"
   ]
  },
  {
   "cell_type": "code",
   "execution_count": 4,
   "metadata": {},
   "outputs": [
    {
     "data": {
      "text/plain": [
       "array([[-2, -1],\n",
       "       [-2, -9],\n",
       "       [-2, -3]])"
      ]
     },
     "execution_count": 4,
     "metadata": {},
     "output_type": "execute_result"
    }
   ],
   "source": [
    "A    ##Matriz de coeficientes de las restricciones de desigualdad"
   ]
  },
  {
   "cell_type": "code",
   "execution_count": 5,
   "metadata": {},
   "outputs": [
    {
     "data": {
      "text/plain": [
       "array([-12, -36, -24])"
      ]
     },
     "execution_count": 5,
     "metadata": {},
     "output_type": "execute_result"
    }
   ],
   "source": [
    "b    ##Valores conocidos que no deben ser superados"
   ]
  },
  {
   "cell_type": "code",
   "execution_count": 6,
   "metadata": {},
   "outputs": [
    {
     "name": "stdout",
     "output_type": "stream",
     "text": [
      "Optimization terminated successfully.\n",
      "         Current function value: 195.000000  \n",
      "         Iterations: 4\n"
     ]
    }
   ],
   "source": [
    "res = opt.linprog(c, A_ub = A, b_ub = b, bounds=(x_bound, y_bound), options={'disp':True})"
   ]
  },
  {
   "cell_type": "code",
   "execution_count": 7,
   "metadata": {},
   "outputs": [
    {
     "data": {
      "text/plain": [
       "     fun: 195.00000000000003\n",
       " message: 'Optimization terminated successfully.'\n",
       "     nit: 4\n",
       "   slack: array([  0.,  24.,   0.])\n",
       "  status: 0\n",
       " success: True\n",
       "       x: array([ 3.,  6.])"
      ]
     },
     "execution_count": 7,
     "metadata": {},
     "output_type": "execute_result"
    }
   ],
   "source": [
    "res"
   ]
  },
  {
   "cell_type": "code",
   "execution_count": 8,
   "metadata": {},
   "outputs": [
    {
     "data": {
      "text/plain": [
       "array([ 3.,  6.])"
      ]
     },
     "execution_count": 8,
     "metadata": {},
     "output_type": "execute_result"
    }
   ],
   "source": [
    "res.x   ##Punto que minimiza la función de costo de acuerdo a las restricciones propuestas "
   ]
  },
  {
   "cell_type": "code",
   "execution_count": 9,
   "metadata": {},
   "outputs": [
    {
     "data": {
      "text/latex": [
       "$$\\left ( x, \\quad y\\right )$$"
      ],
      "text/plain": [
       "(x, y)"
      ]
     },
     "execution_count": 9,
     "metadata": {},
     "output_type": "execute_result"
    }
   ],
   "source": [
    "sym.var('x y')\n",
    "x, y"
   ]
  },
  {
   "cell_type": "code",
   "execution_count": 10,
   "metadata": {
    "collapsed": true
   },
   "outputs": [],
   "source": [
    "def Costo(x, y):\n",
    "    return 25*x + 20*y"
   ]
  },
  {
   "cell_type": "code",
   "execution_count": 11,
   "metadata": {},
   "outputs": [
    {
     "data": {
      "text/latex": [
       "$$195$$"
      ],
      "text/plain": [
       "195"
      ]
     },
     "execution_count": 11,
     "metadata": {},
     "output_type": "execute_result"
    }
   ],
   "source": [
    "Costo(3, 6)"
   ]
  },
  {
   "cell_type": "markdown",
   "metadata": {},
   "source": [
    "## El costo mínimo que se puede obtener es de 195 pesos, comprando 3 sacos del alimento X y 6 sacos del alimento Y"
   ]
  },
  {
   "cell_type": "markdown",
   "metadata": {},
   "source": []
  },
  {
   "cell_type": "markdown",
   "metadata": {},
   "source": [
    "### Gráfica del problema:"
   ]
  },
  {
   "cell_type": "code",
   "execution_count": 12,
   "metadata": {
    "collapsed": true
   },
   "outputs": [],
   "source": [
    "def y_v1(x):\n",
    "    return 12 - 2*x\n",
    "def y_v2(x):\n",
    "    return (36 - 2*x)/9\n",
    "def y_v3(x):\n",
    "    return (24 - 2*x)/3"
   ]
  },
  {
   "cell_type": "code",
   "execution_count": 13,
   "metadata": {
    "collapsed": true
   },
   "outputs": [],
   "source": [
    "x = np.linspace(0,50)"
   ]
  },
  {
   "cell_type": "code",
   "execution_count": 31,
   "metadata": {},
   "outputs": [
    {
     "data": {
      "image/png": "[encoded data removed]",
      "text/plain": [
       "<matplotlib.figure.Figure at 0x156666b47b8>"
      ]
     },
     "metadata": {},
     "output_type": "display_data"
    }
   ],
   "source": [
    "plt.figure(figsize = (13.5,9))\n",
    "plt.plot(x, y_v1(x), 'magenta') #desigualdad 1\n",
    "plt.plot(x, y_v2(x), 'blue') # desigualdad 2\n",
    "plt.plot(x, y_v3(x)) # desigualdad 3\n",
    "plt.plot([3], [6], '*b', label = '$(3,6=\\min_{x, y}  Costo(x, y))$', markersize=15)\n",
    "plt.xlim(xmin = 0, xmax = 18)\n",
    "plt.ylim(ymin = 0, ymax = 12)\n",
    "plt.fill_between(np.array([0, 18]), y_v1(np.array([0, 18])), 12, alpha = .3, color = 'red')\n",
    "plt.fill_between(np.array([0, 18]), y_v2(np.array([0, 18])), 12, alpha = .3, color = 'orange')\n",
    "plt.fill_between(np.array([0, 18]), y_v3(np.array([0, 18])), 12, alpha = .3, color = 'yellow')\n",
    "plt.fill_between(np.array([0, 6]), y_v1(np.array([0, 6])), 0, alpha = .2, color = 'blue')\n",
    "plt.fill_between(np.array([0, 18]), y_v2(np.array([0, 18])), 0, alpha = .2, color = 'green')\n",
    "plt.fill_between(np.array([0, 12]), y_v3(np.array([0, 12])), 0, alpha = .2, color = 'purple')\n",
    "plt.legend(loc='best')\n",
    "plt.xlabel(\"$x$\", fontsize = 18)\n",
    "plt.ylabel(\"$y$\", fontsize = 18)\n",
    "plt.grid()\n",
    "plt.show()"
   ]
  },
  {
   "cell_type": "markdown",
   "metadata": {
    "collapsed": true
   },
   "source": [
    "La región sombreada de color naranja representa al conjunto de valores que satisface las restricciones impuestas,\n",
    "mientras que el punto representado con una estrella azul indica los valores para \"x\" y \"y\" que minimizan el costo\n",
    "del alimento."
   ]
  },
  {
   "cell_type": "markdown",
   "metadata": {
    "collapsed": true
   },
   "source": [
    "# Conclusion"
   ]
  },
  {
   "cell_type": "markdown",
   "metadata": {},
   "source": [
    "> - Podemos concluir que al final pudimos obtener el resultado deseaso mediante la optmizacion matematica, y de forma se aconsejo correctamente al cliente respecto a la cantidad optima de sacos que debia comprar de cada marca para minimizar su gasto sin dejar de cumplir con el minimo de nutrientes requerido."
   ]
  },
  {
   "cell_type": "markdown",
   "metadata": {},
   "source": [
    "# Bibliografia "
   ]
  },
  {
   "cell_type": "markdown",
   "metadata": {},
   "source": [
    "> - Stanley I. Grossman. (2012). Algebra Lineal. Mexico : Mcgraw-Hill."
   ]
  },
  {
   "cell_type": "code",
   "execution_count": null,
   "metadata": {
    "collapsed": true
   },
   "outputs": [],
   "source": []
  }
 ],
 "metadata": {
  "kernelspec": {
   "display_name": "Python 3",
   "language": "python",
   "name": "python3"
  },
  "language_info": {
   "codemirror_mode": {
    "name": "ipython",
    "version": 3
   },
   "file_extension": ".py",
   "mimetype": "text/x-python",
   "name": "python",
   "nbconvert_exporter": "python",
   "pygments_lexer": "ipython3",
   "version": "3.6.2"
  }
 },
 "nbformat": 4,
 "nbformat_minor": 2
}
